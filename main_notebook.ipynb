{
 "cells": [
  {
   "cell_type": "markdown",
   "metadata": {},
   "source": [
    "# Chatbot "
   ]
  },
  {
   "cell_type": "markdown",
   "metadata": {},
   "source": [
    "## Introduction"
   ]
  },
  {
   "cell_type": "markdown",
   "metadata": {},
   "source": [
    "### Imports"
   ]
  },
  {
   "cell_type": "code",
   "execution_count": 1,
   "metadata": {
    "ExecuteTime": {
     "end_time": "2021-02-14T19:10:59.908055Z",
     "start_time": "2021-02-14T19:10:53.774678Z"
    }
   },
   "outputs": [
    {
     "name": "stderr",
     "output_type": "stream",
     "text": [
      "WARNING: Logging before flag parsing goes to stderr.\n",
      "W0214 14:10:59.599688 140735779611520 deprecation.py:323] From /Users/spags/opt/anaconda3/envs/learn-env/lib/python3.6/site-packages/tensorflow/python/compat/v2_compat.py:96: disable_resource_variables (from tensorflow.python.ops.variable_scope) is deprecated and will be removed in a future version.\n",
      "Instructions for updating:\n",
      "non-resource variables are not supported in the long term\n",
      "[nltk_data] Downloading package punkt to /Users/spags/nltk_data...\n",
      "[nltk_data]   Package punkt is already up-to-date!\n"
     ]
    },
    {
     "data": {
      "text/plain": [
       "True"
      ]
     },
     "execution_count": 1,
     "metadata": {},
     "output_type": "execute_result"
    }
   ],
   "source": [
    "import nltk\n",
    "from nltk.stem.lancaster import LancasterStemmer\n",
    "import numpy as np\n",
    "import tflearn\n",
    "import tensorflow as tf\n",
    "import random \n",
    "import json\n",
    "\n",
    "nltk.download('punkt')"
   ]
  },
  {
   "cell_type": "markdown",
   "metadata": {},
   "source": [
    "## Obtain"
   ]
  },
  {
   "cell_type": "markdown",
   "metadata": {},
   "source": [
    "### Importing json"
   ]
  },
  {
   "cell_type": "code",
   "execution_count": 2,
   "metadata": {
    "ExecuteTime": {
     "end_time": "2021-02-14T19:10:59.919294Z",
     "start_time": "2021-02-14T19:10:59.910766Z"
    }
   },
   "outputs": [
    {
     "data": {
      "text/plain": [
       "{'intents': [{'tag': 'greeting',\n",
       "   'patterns': ['Hi',\n",
       "    'Hello',\n",
       "    'How are you',\n",
       "    \"What's up\",\n",
       "    'Howdy',\n",
       "    'Good day',\n",
       "    'Is anyone there?',\n",
       "    'yo',\n",
       "    'Hey'],\n",
       "   'responses': ['Hello!',\n",
       "    'Good to see you again!',\n",
       "    'Hi there, how can I help?',\n",
       "    'Howdy partner!',\n",
       "    'Hey there!'],\n",
       "   'context_set': ''},\n",
       "  {'tag': 'goodbye',\n",
       "   'patterns': ['goodbye',\n",
       "    'bye',\n",
       "    'cya',\n",
       "    'have a nice day',\n",
       "    'have a good day',\n",
       "    'peace'],\n",
       "   'responses': ['Bye for now!',\n",
       "    'Goodbye, friend!',\n",
       "    'Talk to you later!',\n",
       "    'Adios, muchacho!'],\n",
       "   'context_set': ''}]}"
      ]
     },
     "execution_count": 2,
     "metadata": {},
     "output_type": "execute_result"
    }
   ],
   "source": [
    "# Open json\n",
    "\n",
    "with open('intents.json') as file:\n",
    "    data = json.load(file)\n",
    "    \n",
    "data"
   ]
  },
  {
   "cell_type": "markdown",
   "metadata": {},
   "source": [
    "## Scrub"
   ]
  },
  {
   "cell_type": "markdown",
   "metadata": {},
   "source": [
    "### Preprocessing text data"
   ]
  },
  {
   "cell_type": "code",
   "execution_count": 3,
   "metadata": {
    "ExecuteTime": {
     "end_time": "2021-02-14T19:10:59.944644Z",
     "start_time": "2021-02-14T19:10:59.922149Z"
    }
   },
   "outputs": [],
   "source": [
    "# loop through json and pull out patterns\n",
    "\n",
    "words = []  # list of words\n",
    "docs_x = [] # word sequences\n",
    "docs_y = [] # y is the tag as well, for modeling purposes\n",
    "labels = []  # tag\n",
    "\n",
    "for intent in data['intents']:\n",
    "    for pattern in intent['patterns']:  # stemming will take each word in a pattern and bring it down to root word\n",
    "        word = nltk.word_tokenize(pattern)\n",
    "        words.extend(word)  # use extend rather than append because it's already a list (faster)\n",
    "        docs_x.append(word)\n",
    "        docs_y.append(intent['tag'])\n",
    "    if intent['tag'] not in labels:\n",
    "        labels.append(intent['tag'])"
   ]
  },
  {
   "cell_type": "code",
   "execution_count": 4,
   "metadata": {
    "ExecuteTime": {
     "end_time": "2021-02-14T19:10:59.955574Z",
     "start_time": "2021-02-14T19:10:59.947401Z"
    }
   },
   "outputs": [],
   "source": [
    "# Stemming out the words list\n",
    "\n",
    "stemmer = LancasterStemmer()\n",
    "\n",
    "words = [stemmer.stem(w.lower()) for w in words if w not in '?']  # removes question mark\n",
    "words = sorted(list(set(words)))    # using set to remove duplicates and then converting back to list...cool idea"
   ]
  },
  {
   "cell_type": "code",
   "execution_count": 5,
   "metadata": {
    "ExecuteTime": {
     "end_time": "2021-02-14T19:10:59.963548Z",
     "start_time": "2021-02-14T19:10:59.957636Z"
    }
   },
   "outputs": [],
   "source": [
    "# Sorting labels for funsies\n",
    "\n",
    "labels = sorted(labels)"
   ]
  },
  {
   "cell_type": "code",
   "execution_count": 6,
   "metadata": {
    "ExecuteTime": {
     "end_time": "2021-02-14T19:10:59.976065Z",
     "start_time": "2021-02-14T19:10:59.965577Z"
    }
   },
   "outputs": [],
   "source": [
    "# Create a bag of words to train the model (one hot endcoded)\n",
    "\n",
    "training = []\n",
    "output = []\n",
    "\n",
    "out_empty = [0 for _ in range(len(labels))]\n",
    "\n",
    "for x, doc in enumerate(docs_x):  # actually putting the bag of words together here\n",
    "    bag = []\n",
    "    word_list = [stemmer.stem(w) for w in doc]\n",
    "    \n",
    "    for w in words:\n",
    "        if w in word_list:\n",
    "            bag.append(1)\n",
    "        else:\n",
    "            bag.append(0)\n",
    "    # Generating Output        \n",
    "    output_row = out_empty[:]\n",
    "    output_row[labels.index(docs_y[x])] = 1\n",
    "    \n",
    "    # filling training & output\n",
    "    training.append(bag)\n",
    "    output.append(output_row)"
   ]
  },
  {
   "cell_type": "code",
   "execution_count": 7,
   "metadata": {
    "ExecuteTime": {
     "end_time": "2021-02-14T19:10:59.983016Z",
     "start_time": "2021-02-14T19:10:59.978447Z"
    }
   },
   "outputs": [],
   "source": [
    "# Changing trainign and output to numpy arrays\n",
    "\n",
    "training = np.array(training)\n",
    "output = np.array(output)"
   ]
  },
  {
   "cell_type": "markdown",
   "metadata": {},
   "source": [
    "## Modeling"
   ]
  },
  {
   "cell_type": "code",
   "execution_count": 8,
   "metadata": {
    "ExecuteTime": {
     "end_time": "2021-02-14T19:10:59.991816Z",
     "start_time": "2021-02-14T19:10:59.986576Z"
    }
   },
   "outputs": [
    {
     "data": {
      "text/plain": [
       "23"
      ]
     },
     "execution_count": 8,
     "metadata": {},
     "output_type": "execute_result"
    }
   ],
   "source": [
    "len(training[0])"
   ]
  },
  {
   "cell_type": "code",
   "execution_count": 9,
   "metadata": {
    "ExecuteTime": {
     "end_time": "2021-02-14T19:11:00.025482Z",
     "start_time": "2021-02-14T19:10:59.993994Z"
    }
   },
   "outputs": [
    {
     "data": {
      "text/plain": [
       "2"
      ]
     },
     "execution_count": 9,
     "metadata": {},
     "output_type": "execute_result"
    }
   ],
   "source": [
    "len(output[0])"
   ]
  },
  {
   "cell_type": "code",
   "execution_count": 10,
   "metadata": {
    "ExecuteTime": {
     "end_time": "2021-02-14T19:11:08.711504Z",
     "start_time": "2021-02-14T19:11:00.027758Z"
    }
   },
   "outputs": [
    {
     "name": "stdout",
     "output_type": "stream",
     "text": [
      "Training Step: 1999  | total loss: \u001b[1m\u001b[32m0.01339\u001b[0m\u001b[0m | time: 0.002s\n",
      "| Adam | epoch: 1000 | loss: 0.01339 - acc: 0.9996 -- iter: 08/15\n",
      "Training Step: 2000  | total loss: \u001b[1m\u001b[32m0.01296\u001b[0m\u001b[0m | time: 0.005s\n",
      "| Adam | epoch: 1000 | loss: 0.01296 - acc: 0.9997 -- iter: 15/15\n",
      "--\n"
     ]
    }
   ],
   "source": [
    "# Setting up a neural network with tflearn...new one for me\n",
    "\n",
    "net = tflearn.input_data(shape = [None, len(training[0])]) # input layer?\n",
    "net = tflearn.fully_connected(net, 8)  # adds fully connected hidden layer to the network with 8 neurons\n",
    "net = tflearn.fully_connected(net, 8) # adds second hidden layer\n",
    "net = tflearn.fully_connected(net, len(output[0]), activation = 'softmax') # output layer\n",
    "net = tflearn.regression(net) # adds a regression layer?\n",
    "\n",
    "# compile the model\n",
    "model = tflearn.DNN(net)\n",
    "\n",
    "# fit the model (n_epoch in tflearn, show_metric gives an output)\n",
    "model.fit(training, output, n_epoch = 1000, batch_size = 8, show_metric = True)\n",
    "\n",
    "# save the model\n",
    "model.save(\"model.tflearn\")\n"
   ]
  },
  {
   "cell_type": "markdown",
   "metadata": {},
   "source": [
    "> Model is working VERY well given the overly simple data that it's seen so far. 99.97% accuracy!  We can expect this to go down when I expand on the intents file."
   ]
  },
  {
   "cell_type": "code",
   "execution_count": null,
   "metadata": {},
   "outputs": [],
   "source": []
  }
 ],
 "metadata": {
  "kernelspec": {
   "display_name": "Python [conda env:learn-env] *",
   "language": "python",
   "name": "conda-env-learn-env-py"
  },
  "language_info": {
   "codemirror_mode": {
    "name": "ipython",
    "version": 3
   },
   "file_extension": ".py",
   "mimetype": "text/x-python",
   "name": "python",
   "nbconvert_exporter": "python",
   "pygments_lexer": "ipython3",
   "version": "3.6.9"
  },
  "toc": {
   "base_numbering": 1,
   "nav_menu": {},
   "number_sections": true,
   "sideBar": true,
   "skip_h1_title": false,
   "title_cell": "Table of Contents",
   "title_sidebar": "Contents",
   "toc_cell": false,
   "toc_position": {},
   "toc_section_display": true,
   "toc_window_display": true
  }
 },
 "nbformat": 4,
 "nbformat_minor": 2
}
